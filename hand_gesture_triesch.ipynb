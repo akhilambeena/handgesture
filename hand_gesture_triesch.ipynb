{
 "cells": [
  {
   "cell_type": "code",
   "execution_count": 1,
   "metadata": {},
   "outputs": [
    {
     "name": "stderr",
     "output_type": "stream",
     "text": [
      "Using TensorFlow backend.\n"
     ]
    }
   ],
   "source": [
    "%matplotlib inline\n",
    "import matplotlib.pyplot as plt\n",
    "from matplotlib import *\n",
    "# import utils; reload(utils)\n",
    "# from utils import plots\n",
    "from keras.models import Sequential\n",
    "from keras.layers.core import Flatten, Dense, Dropout\n",
    "from keras.layers.convolutional import Convolution2D, MaxPooling2D, ZeroPadding2D\n",
    "from keras.optimizers import SGD\n",
    "#from keras.utils import to_categorical\n",
    "from keras.utils.np_utils import to_categorical\n",
    "from keras.preprocessing import image\n",
    "from keras import backend as K\n",
    "#from theano import tensor as K\n",
    "from scipy import ndimage\n",
    "\n",
    "import numpy as np\n",
    "import os\n",
    "import PIL\n",
    "from PIL import Image"
   ]
  },
  {
   "cell_type": "code",
   "execution_count": 2,
   "metadata": {},
   "outputs": [
    {
     "data": {
      "text/plain": [
       "'/nfsroot/data/home/s_jaysetty/Insofe_Cluster/hand_gesture'"
      ]
     },
     "execution_count": 2,
     "metadata": {},
     "output_type": "execute_result"
    }
   ],
   "source": [
    "os.getcwd()"
   ]
  },
  {
   "cell_type": "code",
   "execution_count": 3,
   "metadata": {},
   "outputs": [
    {
     "name": "stderr",
     "output_type": "stream",
     "text": [
      "/nfsroot/data/home/s_jaysetty/.local/lib/python2.7/site-packages/ipykernel_launcher.py:5: UserWarning: Update your `Conv2D` call to the Keras 2 API: `Conv2D(64, (3, 3), activation=\"relu\")`\n",
      "  \"\"\"\n",
      "/nfsroot/data/home/s_jaysetty/.local/lib/python2.7/site-packages/ipykernel_launcher.py:7: UserWarning: Update your `Conv2D` call to the Keras 2 API: `Conv2D(64, (3, 3), activation=\"relu\")`\n",
      "  import sys\n",
      "/nfsroot/data/home/s_jaysetty/.local/lib/python2.7/site-packages/ipykernel_launcher.py:11: UserWarning: Update your `Conv2D` call to the Keras 2 API: `Conv2D(128, (3, 3), activation=\"relu\")`\n",
      "  # This is added back by InteractiveShellApp.init_path()\n",
      "/nfsroot/data/home/s_jaysetty/.local/lib/python2.7/site-packages/ipykernel_launcher.py:13: UserWarning: Update your `Conv2D` call to the Keras 2 API: `Conv2D(128, (3, 3), activation=\"relu\")`\n",
      "  del sys.path[0]\n",
      "/nfsroot/data/home/s_jaysetty/.local/lib/python2.7/site-packages/ipykernel_launcher.py:17: UserWarning: Update your `Conv2D` call to the Keras 2 API: `Conv2D(256, (3, 3), activation=\"relu\")`\n",
      "/nfsroot/data/home/s_jaysetty/.local/lib/python2.7/site-packages/ipykernel_launcher.py:19: UserWarning: Update your `Conv2D` call to the Keras 2 API: `Conv2D(256, (3, 3), activation=\"relu\")`\n",
      "/nfsroot/data/home/s_jaysetty/.local/lib/python2.7/site-packages/ipykernel_launcher.py:21: UserWarning: Update your `Conv2D` call to the Keras 2 API: `Conv2D(256, (3, 3), activation=\"relu\")`\n",
      "/nfsroot/data/home/s_jaysetty/.local/lib/python2.7/site-packages/ipykernel_launcher.py:25: UserWarning: Update your `Conv2D` call to the Keras 2 API: `Conv2D(512, (3, 3), activation=\"relu\")`\n",
      "/nfsroot/data/home/s_jaysetty/.local/lib/python2.7/site-packages/ipykernel_launcher.py:27: UserWarning: Update your `Conv2D` call to the Keras 2 API: `Conv2D(512, (3, 3), activation=\"relu\")`\n",
      "/nfsroot/data/home/s_jaysetty/.local/lib/python2.7/site-packages/ipykernel_launcher.py:29: UserWarning: Update your `Conv2D` call to the Keras 2 API: `Conv2D(512, (3, 3), activation=\"relu\")`\n",
      "/nfsroot/data/home/s_jaysetty/.local/lib/python2.7/site-packages/ipykernel_launcher.py:33: UserWarning: Update your `Conv2D` call to the Keras 2 API: `Conv2D(512, (3, 3), activation=\"relu\")`\n",
      "/nfsroot/data/home/s_jaysetty/.local/lib/python2.7/site-packages/ipykernel_launcher.py:35: UserWarning: Update your `Conv2D` call to the Keras 2 API: `Conv2D(512, (3, 3), activation=\"relu\")`\n",
      "/nfsroot/data/home/s_jaysetty/.local/lib/python2.7/site-packages/ipykernel_launcher.py:37: UserWarning: Update your `Conv2D` call to the Keras 2 API: `Conv2D(512, (3, 3), activation=\"relu\")`\n"
     ]
    }
   ],
   "source": [
    "# VGG model definition\n",
    "def VGG_16(weights_path=None):\n",
    "    model = Sequential()\n",
    "    model.add(ZeroPadding2D((1,1),input_shape=(224,224,3)))\n",
    "    model.add(Convolution2D(64, 3, 3, activation='relu'))\n",
    "    model.add(ZeroPadding2D((1,1)))\n",
    "    model.add(Convolution2D(64, 3, 3, activation='relu'))\n",
    "    model.add(MaxPooling2D((2,2), strides=(2,2)))\n",
    "\n",
    "    model.add(ZeroPadding2D((1,1)))\n",
    "    model.add(Convolution2D(128, 3, 3, activation='relu'))\n",
    "    model.add(ZeroPadding2D((1,1)))\n",
    "    model.add(Convolution2D(128, 3, 3, activation='relu'))\n",
    "    model.add(MaxPooling2D((2,2), strides=(2,2)))\n",
    "\n",
    "    model.add(ZeroPadding2D((1,1)))\n",
    "    model.add(Convolution2D(256, 3, 3, activation='relu'))\n",
    "    model.add(ZeroPadding2D((1,1)))\n",
    "    model.add(Convolution2D(256, 3, 3, activation='relu'))\n",
    "    model.add(ZeroPadding2D((1,1)))\n",
    "    model.add(Convolution2D(256, 3, 3, activation='relu'))\n",
    "    model.add(MaxPooling2D((2,2), strides=(2,2)))\n",
    "\n",
    "    model.add(ZeroPadding2D((1,1)))\n",
    "    model.add(Convolution2D(512, 3, 3, activation='relu'))\n",
    "    model.add(ZeroPadding2D((1,1)))\n",
    "    model.add(Convolution2D(512, 3, 3, activation='relu'))\n",
    "    model.add(ZeroPadding2D((1,1)))\n",
    "    model.add(Convolution2D(512, 3, 3, activation='relu'))\n",
    "    model.add(MaxPooling2D((2,2), strides=(2,2)))\n",
    "\n",
    "    model.add(ZeroPadding2D((1,1)))\n",
    "    model.add(Convolution2D(512, 3, 3, activation='relu'))\n",
    "    model.add(ZeroPadding2D((1,1)))\n",
    "    model.add(Convolution2D(512, 3, 3, activation='relu'))\n",
    "    model.add(ZeroPadding2D((1,1)))\n",
    "    model.add(Convolution2D(512, 3, 3, activation='relu'))\n",
    "    model.add(MaxPooling2D((2,2), strides=(2,2)))\n",
    "\n",
    "    model.add(Flatten())\n",
    "    model.add(Dense(4096, activation='relu'))\n",
    "    model.add(Dropout(0.5))\n",
    "    model.add(Dense(4096, activation='relu'))\n",
    "    model.add(Dropout(0.5))\n",
    "    model.add(Dense(1000, activation='softmax'))\n",
    "\n",
    "    if weights_path:\n",
    "        model.load_weights(weights_path)\n",
    "\n",
    "    return model\n",
    "\n",
    "# Load the VGG weigths\n",
    "\n",
    "# path_weights_th = '/Users/Apple/Downloads/Insofe/AI/Transfer_Learning/20170916_Batch_29_CSE7321c_Transfer_Learning/vgg16_weights_th_dim_ordering_th_kernels.h5'\n",
    "path_weights_tf = '/nfsroot/data/home/s_jaysetty/Insofe_Cluster/vgg16_weights_tf_dim_ordering_tf_kernels.h5'\n",
    "# path_weights_tf = 'vgg16_weights_tf_dim_ordering_tf_kernels.h5'\n",
    "#theano\n",
    "model = VGG_16(path_weights_tf)\n",
    "\n",
    "#tensorflow\n",
    "# model = VGG_16('vgg16_weights_tf_dim_ordering_tf_kernels.h5')"
   ]
  },
  {
   "cell_type": "code",
   "execution_count": 4,
   "metadata": {},
   "outputs": [],
   "source": [
    "size = 224\n",
    "\n",
    "def read_image(f):\n",
    "    try:\n",
    "        im = Image.open(f)\n",
    "        im = im.resize((size, size), PIL.Image.NEAREST)\n",
    "        im = np.asarray(im, dtype='float64')\n",
    "        if len(im.shape)==2:\n",
    "            im = im.reshape(im.shape[0],im.shape[1],1)\n",
    "            im = im.repeat(3,axis=2)\n",
    "        if im.shape[2]!=3:\n",
    "            im = im[:,:,:3]\n",
    "        im[:,:,0] -= 103.939\n",
    "        im[:,:,1] -= 116.779\n",
    "        im[:,:,2] -= 123.68\n",
    "        im = im.reshape(1,224,224,3)\n",
    "        return(im)\n",
    "    except ValueError:\n",
    "        print(f) #print the shape of im if it doesn't work correctly, don't reference this apriori"
   ]
  },
  {
   "cell_type": "code",
   "execution_count": 5,
   "metadata": {},
   "outputs": [
    {
     "name": "stdout",
     "output_type": "stream",
     "text": [
      "(1, 224, 224, 3)\n"
     ]
    }
   ],
   "source": [
    "# Basic Check of read_image\n",
    "path = '/home/s_jaysetty/Insofe_Cluster/hand_gesture/Triesch/'\n",
    "im = read_image(path + 'kbrauei1.pgm')\n",
    "# im = read_image('/home/s_jaysetty/Insofe_Cluster/hand_gesture/Triesch/bfritza2.pgm')\n",
    "print(im.shape)\n",
    "# model.layers[32]"
   ]
  },
  {
   "cell_type": "code",
   "execution_count": 6,
   "metadata": {},
   "outputs": [],
   "source": [
    "# with a Sequential model, get output of only 33rd layer\n",
    "get_33rd_layer_output = K.function([model.layers[0].input],\n",
    "                                  [model.layers[32].output])\n",
    "layer_output = get_33rd_layer_output([im])[0]\n",
    "#print(layer_output.shape)"
   ]
  },
  {
   "cell_type": "code",
   "execution_count": 7,
   "metadata": {},
   "outputs": [
    {
     "name": "stdout",
     "output_type": "stream",
     "text": [
      "718\n",
      "['bfritza1.pgm', 'bfritza2.pgm', 'bfritza3.pgm', 'bfritzb1.pgm', 'bfritzb2.pgm', 'bfritzb3.pgm', 'bfritzc1.pgm', 'bfritzc2.pgm', 'bfritzc3.pgm', 'bfritzd1.pgm']\n"
     ]
    }
   ],
   "source": [
    "img_files = []\n",
    "path = '/home/s_jaysetty/Insofe_Cluster/hand_gesture/Triesch'\n",
    "img_files.extend([files for files in os.listdir(path) if files.endswith('.pgm')])\n",
    "print(len(img_files))\n",
    "print(img_files[:10])"
   ]
  },
  {
   "cell_type": "code",
   "execution_count": 8,
   "metadata": {},
   "outputs": [
    {
     "name": "stdout",
     "output_type": "stream",
     "text": [
      "('Total number of images:', 718)\n",
      "('Sample images taken:', 718)\n",
      "['mkefalb3.pgm', 'jwieghc1.pgm', 'kbrauei1.pgm', 'gpeterl1.pgm', 'pleuchl3.pgm', 'haloosd1.pgm', 'tkerscy3.pgm', 'mkefalh1.pgm', 'tkerscc2.pgm', 'mrinnel1.pgm']\n",
      "718\n"
     ]
    }
   ],
   "source": [
    "#Shuffle the Triesch images\n",
    "n_files = len(img_files)\n",
    "print('Total number of images:', n_files)\n",
    "\n",
    "#train_size = 2000\n",
    "#for demo\n",
    "train_size = 10\n",
    "sample_size = max(n_files,train_size)\n",
    "print('Sample images taken:', sample_size)\n",
    "sample = [img_files[i] for i in np.random.choice(len(img_files),size=sample_size, replace=False)]\n",
    "print(sample[:10])\n",
    "print(len(sample))"
   ]
  },
  {
   "cell_type": "code",
   "execution_count": 9,
   "metadata": {},
   "outputs": [
    {
     "name": "stdout",
     "output_type": "stream",
     "text": [
      "Reading Triesch train images ...\n",
      "Read 0 images\n",
      "Read 100 images\n",
      "Read 200 images\n",
      "Read 300 images\n",
      "Read 400 images\n",
      "Read 500 images\n",
      "Successfully read 574 Triesch train images ...\n"
     ]
    }
   ],
   "source": [
    "# Add Triesch images to train + val\n",
    "i=0\n",
    "x_train = []\n",
    "y_train = []\n",
    "path = '/home/s_jaysetty/Insofe_Cluster/hand_gesture/Triesch/'\n",
    "print('Reading Triesch train images ...')\n",
    "for file in sample[:574]:\n",
    "    if(i%100==0):\n",
    "        print(\"Read {} images\".format(i))\n",
    "    im = read_image(path+file)\n",
    "#         im = read_image('/home/s_jaysetty/Insofe_Cluster/hand_gesture/Triesch/'+file)\n",
    "    temp = get_33rd_layer_output([im])[0]\n",
    "    x_train.append(temp[0])\n",
    "    y_train.extend([0 if file[6]=='a' else\n",
    "          1 if file[6]=='b' else \n",
    "          2 if file[6]=='c' else \n",
    "          3 if file[6]=='d' else\n",
    "          4 if file[6]=='g' else\n",
    "          5 if file[6]=='h' else\n",
    "          6 if file[6]=='i' else\n",
    "          7 if file[6]=='l' else\n",
    "          8 if file[6]=='v' else 9])\n",
    "        \n",
    "    i+=1\n",
    "print('Successfully read {} Triesch train images ...'.format(i))"
   ]
  },
  {
   "cell_type": "code",
   "execution_count": 10,
   "metadata": {},
   "outputs": [
    {
     "name": "stdout",
     "output_type": "stream",
     "text": [
      "Reading Triesch val images ...\n",
      "Successfully read 144 Triesch val images ...\n"
     ]
    }
   ],
   "source": [
    "# Add Triesch images to train + val\n",
    "j=0\n",
    "x_val = []\n",
    "y_val = []\n",
    "path = '/home/s_jaysetty/Insofe_Cluster/hand_gesture/Triesch/'\n",
    "print('Reading Triesch val images ...')\n",
    "for file in sample[574:]:\n",
    "    if(i%100==0):\n",
    "        print(\"Read {} images\".format(i))\n",
    "    im = read_image(path+file)\n",
    "    temp = get_33rd_layer_output([im])[0]\n",
    "    x_val.append(temp[0])\n",
    "    y_val.extend([0 if file[6]=='a' else\n",
    "          1 if file[6]=='b' else \n",
    "          2 if file[6]=='c' else \n",
    "          3 if file[6]=='d' else\n",
    "          4 if file[6]=='g' else\n",
    "          5 if file[6]=='h' else\n",
    "          6 if file[6]=='i' else\n",
    "          7 if file[6]=='l' else\n",
    "          8 if file[6]=='v' else 9])\n",
    "        \n",
    "    j+=1\n",
    "print('Successfully read {} Triesch val images ...'.format(j))"
   ]
  },
  {
   "cell_type": "code",
   "execution_count": 24,
   "metadata": {},
   "outputs": [
    {
     "name": "stdout",
     "output_type": "stream",
     "text": [
      "_________________________________________________________________\n",
      "Layer (type)                 Output Shape              Param #   \n",
      "=================================================================\n",
      "dense_14 (Dense)             (None, 32)                131104    \n",
      "_________________________________________________________________\n",
      "dropout_8 (Dropout)          (None, 32)                0         \n",
      "_________________________________________________________________\n",
      "dense_15 (Dense)             (None, 10)                330       \n",
      "=================================================================\n",
      "Total params: 131,434\n",
      "Trainable params: 131,434\n",
      "Non-trainable params: 0\n",
      "_________________________________________________________________\n"
     ]
    }
   ],
   "source": [
    "# Add the MLP Layer\n",
    "mlp = Sequential()\n",
    "mlp.add(Dense(32, input_dim=4096, activation='relu'))\n",
    "mlp.add(Dropout(0.4))\n",
    "# mlp.add(Dense(128, activation='relu'))\n",
    "# mlp.add(Dropout(0.4))\n",
    "mlp.add(Dense(10, activation='sigmoid'))#try dense as 1 and sigmoid\n",
    "mlp.summary()"
   ]
  },
  {
   "cell_type": "code",
   "execution_count": 33,
   "metadata": {},
   "outputs": [
    {
     "name": "stdout",
     "output_type": "stream",
     "text": [
      "Train on 574 samples, validate on 144 samples\n",
      "Epoch 1/3\n",
      "574/574 [==============================] - 0s - loss: 0.2026 - acc: 0.9077 - val_loss: 0.7838 - val_acc: 0.9167\n",
      "Epoch 2/3\n",
      "574/574 [==============================] - 0s - loss: 0.1714 - acc: 0.9199 - val_loss: 0.7787 - val_acc: 0.9167\n",
      "Epoch 3/3\n",
      "574/574 [==============================] - 0s - loss: 0.1097 - acc: 0.9495 - val_loss: 0.8441 - val_acc: 0.8889\n"
     ]
    },
    {
     "data": {
      "text/plain": [
       "<keras.callbacks.History at 0x1c4edc50>"
      ]
     },
     "execution_count": 33,
     "metadata": {},
     "output_type": "execute_result"
    }
   ],
   "source": [
    "#adam = Adam(lr=0.1)\n",
    "# adam = keras.optimizers.adam()\n",
    "# mlp.compile(optimizer='Adam', \n",
    "#             loss='categorical_crossentropy', \n",
    "#             metrics=['acc'])\n",
    "sgd = SGD(lr=0.04, decay=1e-6, momentum=0.6, nesterov=True)\n",
    "mlp.compile(loss='categorical_crossentropy', optimizer='sgd', metrics=['accuracy', recall])\n",
    "\n",
    "mlp.fit(np.array(x_train), to_categorical(y_train), nb_epoch=3, validation_data=(np.array(x_val), to_categorical(y_val)))\n"
   ]
  },
  {
   "cell_type": "code",
   "execution_count": null,
   "metadata": {},
   "outputs": [],
   "source": []
  },
  {
   "cell_type": "code",
   "execution_count": null,
   "metadata": {},
   "outputs": [],
   "source": []
  }
 ],
 "metadata": {
  "kernelspec": {
   "display_name": "Python 2",
   "language": "python",
   "name": "python2"
  },
  "language_info": {
   "codemirror_mode": {
    "name": "ipython",
    "version": 2
   },
   "file_extension": ".py",
   "mimetype": "text/x-python",
   "name": "python",
   "nbconvert_exporter": "python",
   "pygments_lexer": "ipython2",
   "version": "2.7.5"
  }
 },
 "nbformat": 4,
 "nbformat_minor": 2
}
