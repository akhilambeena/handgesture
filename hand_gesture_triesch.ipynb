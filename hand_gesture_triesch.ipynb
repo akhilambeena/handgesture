{
 "cells": [
  {
   "cell_type": "code",
   "execution_count": 7,
   "metadata": {},
   "outputs": [],
   "source": [
    "%matplotlib inline\n",
    "import matplotlib.pyplot as plt\n",
    "from matplotlib import *\n",
    "# import utils; reload(utils)\n",
    "# from utils import plots\n",
    "from keras.models import Sequential\n",
    "from keras.layers.core import Flatten, Dense, Dropout\n",
    "from keras.layers.convolutional import Convolution2D, MaxPooling2D, ZeroPadding2D\n",
    "from keras.optimizers import SGD\n",
    "#from keras.utils import to_categorical\n",
    "from keras.utils.np_utils import to_categorical\n",
    "from keras.preprocessing import image\n",
    "from keras import backend as K\n",
    "#from theano import tensor as K\n",
    "from scipy import ndimage\n",
    "\n",
    "import VGG_16\n",
    "from VGG_16 import VGG_16\n",
    "\n",
    "import numpy as np\n",
    "import os\n",
    "import PIL\n",
    "from PIL import Image"
   ]
  },
  {
   "cell_type": "code",
   "execution_count": 5,
   "metadata": {},
   "outputs": [
    {
     "data": {
      "text/plain": [
       "'/nfsroot/data/home/s_jaysetty/Insofe_Cluster/hand_gesture'"
      ]
     },
     "execution_count": 5,
     "metadata": {},
     "output_type": "execute_result"
    }
   ],
   "source": [
    "os.getcwd()"
   ]
  },
  {
   "cell_type": "code",
   "execution_count": 10,
   "metadata": {},
   "outputs": [
    {
     "name": "stderr",
     "output_type": "stream",
     "text": [
      "/nfsroot/data/home/s_jaysetty/.local/lib/python2.7/site-packages/ipykernel_launcher.py:4: UserWarning: Update your `Conv2D` call to the Keras 2 API: `Conv2D(64, (3, 3), activation=\"relu\")`\n",
      "  after removing the cwd from sys.path.\n",
      "/nfsroot/data/home/s_jaysetty/.local/lib/python2.7/site-packages/ipykernel_launcher.py:6: UserWarning: Update your `Conv2D` call to the Keras 2 API: `Conv2D(64, (3, 3), activation=\"relu\")`\n",
      "  \n",
      "/nfsroot/data/home/s_jaysetty/.local/lib/python2.7/site-packages/ipykernel_launcher.py:10: UserWarning: Update your `Conv2D` call to the Keras 2 API: `Conv2D(128, (3, 3), activation=\"relu\")`\n",
      "  # Remove the CWD from sys.path while we load stuff.\n",
      "/nfsroot/data/home/s_jaysetty/.local/lib/python2.7/site-packages/ipykernel_launcher.py:12: UserWarning: Update your `Conv2D` call to the Keras 2 API: `Conv2D(128, (3, 3), activation=\"relu\")`\n",
      "  if sys.path[0] == '':\n",
      "/nfsroot/data/home/s_jaysetty/.local/lib/python2.7/site-packages/ipykernel_launcher.py:16: UserWarning: Update your `Conv2D` call to the Keras 2 API: `Conv2D(256, (3, 3), activation=\"relu\")`\n",
      "  app.launch_new_instance()\n",
      "/nfsroot/data/home/s_jaysetty/.local/lib/python2.7/site-packages/ipykernel_launcher.py:18: UserWarning: Update your `Conv2D` call to the Keras 2 API: `Conv2D(256, (3, 3), activation=\"relu\")`\n",
      "/nfsroot/data/home/s_jaysetty/.local/lib/python2.7/site-packages/ipykernel_launcher.py:20: UserWarning: Update your `Conv2D` call to the Keras 2 API: `Conv2D(256, (3, 3), activation=\"relu\")`\n",
      "/nfsroot/data/home/s_jaysetty/.local/lib/python2.7/site-packages/ipykernel_launcher.py:24: UserWarning: Update your `Conv2D` call to the Keras 2 API: `Conv2D(512, (3, 3), activation=\"relu\")`\n",
      "/nfsroot/data/home/s_jaysetty/.local/lib/python2.7/site-packages/ipykernel_launcher.py:26: UserWarning: Update your `Conv2D` call to the Keras 2 API: `Conv2D(512, (3, 3), activation=\"relu\")`\n",
      "/nfsroot/data/home/s_jaysetty/.local/lib/python2.7/site-packages/ipykernel_launcher.py:28: UserWarning: Update your `Conv2D` call to the Keras 2 API: `Conv2D(512, (3, 3), activation=\"relu\")`\n",
      "/nfsroot/data/home/s_jaysetty/.local/lib/python2.7/site-packages/ipykernel_launcher.py:32: UserWarning: Update your `Conv2D` call to the Keras 2 API: `Conv2D(512, (3, 3), activation=\"relu\")`\n",
      "/nfsroot/data/home/s_jaysetty/.local/lib/python2.7/site-packages/ipykernel_launcher.py:34: UserWarning: Update your `Conv2D` call to the Keras 2 API: `Conv2D(512, (3, 3), activation=\"relu\")`\n",
      "/nfsroot/data/home/s_jaysetty/.local/lib/python2.7/site-packages/ipykernel_launcher.py:36: UserWarning: Update your `Conv2D` call to the Keras 2 API: `Conv2D(512, (3, 3), activation=\"relu\")`\n"
     ]
    }
   ],
   "source": [
    "def VGG_16(weights_path=None):\n",
    "    model = Sequential()\n",
    "    model.add(ZeroPadding2D((1,1),input_shape=(224,224,3)))\n",
    "    model.add(Convolution2D(64, 3, 3, activation='relu'))\n",
    "    model.add(ZeroPadding2D((1,1)))\n",
    "    model.add(Convolution2D(64, 3, 3, activation='relu'))\n",
    "    model.add(MaxPooling2D((2,2), strides=(2,2)))\n",
    "\n",
    "    model.add(ZeroPadding2D((1,1)))\n",
    "    model.add(Convolution2D(128, 3, 3, activation='relu'))\n",
    "    model.add(ZeroPadding2D((1,1)))\n",
    "    model.add(Convolution2D(128, 3, 3, activation='relu'))\n",
    "    model.add(MaxPooling2D((2,2), strides=(2,2)))\n",
    "\n",
    "    model.add(ZeroPadding2D((1,1)))\n",
    "    model.add(Convolution2D(256, 3, 3, activation='relu'))\n",
    "    model.add(ZeroPadding2D((1,1)))\n",
    "    model.add(Convolution2D(256, 3, 3, activation='relu'))\n",
    "    model.add(ZeroPadding2D((1,1)))\n",
    "    model.add(Convolution2D(256, 3, 3, activation='relu'))\n",
    "    model.add(MaxPooling2D((2,2), strides=(2,2)))\n",
    "\n",
    "    model.add(ZeroPadding2D((1,1)))\n",
    "    model.add(Convolution2D(512, 3, 3, activation='relu'))\n",
    "    model.add(ZeroPadding2D((1,1)))\n",
    "    model.add(Convolution2D(512, 3, 3, activation='relu'))\n",
    "    model.add(ZeroPadding2D((1,1)))\n",
    "    model.add(Convolution2D(512, 3, 3, activation='relu'))\n",
    "    model.add(MaxPooling2D((2,2), strides=(2,2)))\n",
    "\n",
    "    model.add(ZeroPadding2D((1,1)))\n",
    "    model.add(Convolution2D(512, 3, 3, activation='relu'))\n",
    "    model.add(ZeroPadding2D((1,1)))\n",
    "    model.add(Convolution2D(512, 3, 3, activation='relu'))\n",
    "    model.add(ZeroPadding2D((1,1)))\n",
    "    model.add(Convolution2D(512, 3, 3, activation='relu'))\n",
    "    model.add(MaxPooling2D((2,2), strides=(2,2)))\n",
    "\n",
    "    model.add(Flatten())\n",
    "    model.add(Dense(4096, activation='relu'))\n",
    "    model.add(Dropout(0.5))\n",
    "    model.add(Dense(4096, activation='relu'))\n",
    "    model.add(Dropout(0.5))\n",
    "    model.add(Dense(1000, activation='softmax'))\n",
    "\n",
    "    if weights_path:\n",
    "        model.load_weights(weights_path)\n",
    "\n",
    "    return model\n",
    "\n",
    "# Load the VGG weigths\n",
    "path_weights_tf = '/nfsroot/data/home/s_jaysetty/Insofe_Cluster/vgg16_weights_tf_dim_ordering_tf_kernels.h5'\n",
    "model = VGG_16(path_weights_tf)"
   ]
  },
  {
   "cell_type": "code",
   "execution_count": 96,
   "metadata": {},
   "outputs": [],
   "source": [
    "size = 224\n",
    "\n",
    "def read_image(f):\n",
    "    try:\n",
    "        im = Image.open(f)\n",
    "        im = im.resize((size, size), PIL.Image.NEAREST)\n",
    "        im = np.asarray(im, dtype='float64')\n",
    "        if len(im.shape)==2:\n",
    "            im = im.reshape(im.shape[0],im.shape[1],1)\n",
    "            im = im.repeat(3,axis=2)\n",
    "        if im.shape[2]!=3:\n",
    "            im = im[:,:,:3]\n",
    "        im[:,:,0] -= 103.939\n",
    "        im[:,:,1] -= 116.779\n",
    "        im[:,:,2] -= 123.68\n",
    "        im = im.reshape(1,224,224,3)\n",
    "        return(im)\n",
    "    except ValueError:\n",
    "        print(f) #print the shape of im if it doesn't work correctly, don't reference this apriori"
   ]
  },
  {
   "cell_type": "code",
   "execution_count": 97,
   "metadata": {},
   "outputs": [
    {
     "name": "stdout",
     "output_type": "stream",
     "text": [
      "(1, 224, 224, 3)\n"
     ]
    }
   ],
   "source": [
    "# Basic Check of read_image\n",
    "path = '/home/s_jaysetty/Insofe_Cluster/hand_gesture/Triesch/'\n",
    "im = read_image(path + 'kbrauei1.pgm')\n",
    "# im = read_image('/home/s_jaysetty/Insofe_Cluster/hand_gesture/Triesch/bfritza2.pgm')\n",
    "print(im.shape)\n",
    "# model.layers[32]"
   ]
  },
  {
   "cell_type": "code",
   "execution_count": 98,
   "metadata": {},
   "outputs": [],
   "source": [
    "# with a Sequential model, get output of only 33rd layer\n",
    "get_33rd_layer_output = K.function([model.layers[0].input],\n",
    "                                  [model.layers[32].output])\n",
    "layer_output = get_33rd_layer_output([im])[0]\n",
    "#print(layer_output.shape)"
   ]
  },
  {
   "cell_type": "code",
   "execution_count": 99,
   "metadata": {},
   "outputs": [
    {
     "name": "stdout",
     "output_type": "stream",
     "text": [
      "718\n",
      "['bfritza1.pgm', 'bfritza2.pgm', 'bfritza3.pgm', 'bfritzb1.pgm', 'bfritzb2.pgm', 'bfritzb3.pgm', 'bfritzc1.pgm', 'bfritzc2.pgm', 'bfritzc3.pgm', 'bfritzd1.pgm']\n"
     ]
    }
   ],
   "source": [
    "img_files = []\n",
    "path = '/home/s_jaysetty/Insofe_Cluster/hand_gesture/Triesch'\n",
    "img_files.extend([files for files in os.listdir(path) if files.endswith('.pgm')])\n",
    "print(len(img_files))\n",
    "print(img_files[:10])"
   ]
  },
  {
   "cell_type": "code",
   "execution_count": 100,
   "metadata": {},
   "outputs": [
    {
     "name": "stdout",
     "output_type": "stream",
     "text": [
      "('Total number of images:', 718)\n",
      "('Sample images taken:', 718)\n",
      "['mkefald3.pgm', 'bfritzh2.pgm', 'jtriesd3.pgm', 'mbeckey2.pgm', 'mkefalb3.pgm', 'mrinneb2.pgm', 'jtriesd1.pgm', 'umaschy2.pgm', 'jtriesb2.pgm', 'umaschg3.pgm']\n",
      "718\n"
     ]
    }
   ],
   "source": [
    "#Shuffle the Triesch images\n",
    "n_files = len(img_files)\n",
    "print('Total number of images:', n_files)\n",
    "\n",
    "#train_size = 2000\n",
    "#for demo\n",
    "train_size = 10\n",
    "sample_size = max(n_files,train_size)\n",
    "print('Sample images taken:', sample_size)\n",
    "sample = [img_files[i] for i in np.random.choice(len(img_files),size=sample_size, replace=False)]\n",
    "print(sample[:10])\n",
    "print(len(sample))"
   ]
  },
  {
   "cell_type": "code",
   "execution_count": 107,
   "metadata": {},
   "outputs": [
    {
     "name": "stdout",
     "output_type": "stream",
     "text": [
      "Reading Triesch train images ...\n",
      "Read 0 images\n",
      "Read 100 images\n",
      "Read 200 images\n",
      "Read 300 images\n",
      "Read 400 images\n",
      "Read 500 images\n",
      "Successfully read 574 Triesch train images ...\n"
     ]
    }
   ],
   "source": [
    "# Add Triesch images to train + val\n",
    "i=0\n",
    "x_train = []\n",
    "y_train = []\n",
    "path = '/home/s_jaysetty/Insofe_Cluster/hand_gesture/Triesch/'\n",
    "print('Reading Triesch train images ...')\n",
    "for file in sample[:574]:\n",
    "    if(i%100==0):\n",
    "        print(\"Read {} images\".format(i))\n",
    "    im = read_image(path+file)\n",
    "#         im = read_image('/home/s_jaysetty/Insofe_Cluster/hand_gesture/Triesch/'+file)\n",
    "    temp = get_33rd_layer_output([im])[0]\n",
    "    x_train.append(temp[0])\n",
    "    y_train.extend([0 if file[6]=='a' else\n",
    "          1 if file[6]=='b' else \n",
    "          2 if file[6]=='c' else \n",
    "          3 if file[6]=='d' else\n",
    "          4 if file[6]=='g' else\n",
    "          5 if file[6]=='h' else\n",
    "          6 if file[6]=='i' else\n",
    "          7 if file[6]=='l' else\n",
    "          8 if file[6]=='v' else 9])\n",
    "        \n",
    "    i+=1\n",
    "print('Successfully read {} Triesch train images ...'.format(i))"
   ]
  },
  {
   "cell_type": "code",
   "execution_count": 106,
   "metadata": {},
   "outputs": [
    {
     "name": "stdout",
     "output_type": "stream",
     "text": [
      "Reading Triesch val images ...\n",
      "Successfully read 144 Triesch val images ...\n"
     ]
    }
   ],
   "source": [
    "# Add Triesch images to train + val\n",
    "j=0\n",
    "x_val = []\n",
    "y_val = []\n",
    "path = '/home/s_jaysetty/Insofe_Cluster/hand_gesture/Triesch/'\n",
    "print('Reading Triesch val images ...')\n",
    "for file in sample[574:]:\n",
    "    if(i%100==0):\n",
    "        print(\"Read {} images\".format(i))\n",
    "    im = read_image(path+file)\n",
    "    temp = get_33rd_layer_output([im])[0]\n",
    "    x_val.append(temp[0])\n",
    "    y_val.extend([0 if file[6]=='a' else\n",
    "          1 if file[6]=='b' else \n",
    "          2 if file[6]=='c' else \n",
    "          3 if file[6]=='d' else\n",
    "          4 if file[6]=='g' else\n",
    "          5 if file[6]=='h' else\n",
    "          6 if file[6]=='i' else\n",
    "          7 if file[6]=='l' else\n",
    "          8 if file[6]=='v' else 9])\n",
    "        \n",
    "    j+=1\n",
    "print('Successfully read {} Triesch val images ...'.format(j))"
   ]
  },
  {
   "cell_type": "code",
   "execution_count": 105,
   "metadata": {},
   "outputs": [
    {
     "ename": "ValueError",
     "evalue": "zero-size array to reduction operation maximum which has no identity",
     "output_type": "error",
     "traceback": [
      "\u001b[0;31m---------------------------------------------------------------------------\u001b[0m",
      "\u001b[0;31mValueError\u001b[0m                                Traceback (most recent call last)",
      "\u001b[0;32m<ipython-input-105-b27b0cdbfeb3>\u001b[0m in \u001b[0;36m<module>\u001b[0;34m()\u001b[0m\n\u001b[1;32m      1\u001b[0m \u001b[0my_train\u001b[0m \u001b[0;34m=\u001b[0m \u001b[0mto_categorical\u001b[0m\u001b[0;34m(\u001b[0m\u001b[0my_train\u001b[0m\u001b[0;34m)\u001b[0m\u001b[0;34m\u001b[0m\u001b[0m\n\u001b[0;32m----> 2\u001b[0;31m \u001b[0my_val\u001b[0m \u001b[0;34m=\u001b[0m \u001b[0mto_categorical\u001b[0m\u001b[0;34m(\u001b[0m\u001b[0my_val\u001b[0m\u001b[0;34m)\u001b[0m\u001b[0;34m\u001b[0m\u001b[0m\n\u001b[0m",
      "\u001b[0;32m/usr/lib64/python2.7/site-packages/keras/utils/np_utils.pyc\u001b[0m in \u001b[0;36mto_categorical\u001b[0;34m(y, num_classes)\u001b[0m\n\u001b[1;32m     20\u001b[0m     \u001b[0my\u001b[0m \u001b[0;34m=\u001b[0m \u001b[0mnp\u001b[0m\u001b[0;34m.\u001b[0m\u001b[0marray\u001b[0m\u001b[0;34m(\u001b[0m\u001b[0my\u001b[0m\u001b[0;34m,\u001b[0m \u001b[0mdtype\u001b[0m\u001b[0;34m=\u001b[0m\u001b[0;34m'int'\u001b[0m\u001b[0;34m)\u001b[0m\u001b[0;34m.\u001b[0m\u001b[0mravel\u001b[0m\u001b[0;34m(\u001b[0m\u001b[0;34m)\u001b[0m\u001b[0;34m\u001b[0m\u001b[0m\n\u001b[1;32m     21\u001b[0m     \u001b[0;32mif\u001b[0m \u001b[0;32mnot\u001b[0m \u001b[0mnum_classes\u001b[0m\u001b[0;34m:\u001b[0m\u001b[0;34m\u001b[0m\u001b[0m\n\u001b[0;32m---> 22\u001b[0;31m         \u001b[0mnum_classes\u001b[0m \u001b[0;34m=\u001b[0m \u001b[0mnp\u001b[0m\u001b[0;34m.\u001b[0m\u001b[0mmax\u001b[0m\u001b[0;34m(\u001b[0m\u001b[0my\u001b[0m\u001b[0;34m)\u001b[0m \u001b[0;34m+\u001b[0m \u001b[0;36m1\u001b[0m\u001b[0;34m\u001b[0m\u001b[0m\n\u001b[0m\u001b[1;32m     23\u001b[0m     \u001b[0mn\u001b[0m \u001b[0;34m=\u001b[0m \u001b[0my\u001b[0m\u001b[0;34m.\u001b[0m\u001b[0mshape\u001b[0m\u001b[0;34m[\u001b[0m\u001b[0;36m0\u001b[0m\u001b[0;34m]\u001b[0m\u001b[0;34m\u001b[0m\u001b[0m\n\u001b[1;32m     24\u001b[0m     \u001b[0mcategorical\u001b[0m \u001b[0;34m=\u001b[0m \u001b[0mnp\u001b[0m\u001b[0;34m.\u001b[0m\u001b[0mzeros\u001b[0m\u001b[0;34m(\u001b[0m\u001b[0;34m(\u001b[0m\u001b[0mn\u001b[0m\u001b[0;34m,\u001b[0m \u001b[0mnum_classes\u001b[0m\u001b[0;34m)\u001b[0m\u001b[0;34m)\u001b[0m\u001b[0;34m\u001b[0m\u001b[0m\n",
      "\u001b[0;32m/usr/lib64/python2.7/site-packages/numpy/core/fromnumeric.pyc\u001b[0m in \u001b[0;36mamax\u001b[0;34m(a, axis, out, keepdims)\u001b[0m\n\u001b[1;32m   2270\u001b[0m \u001b[0;34m\u001b[0m\u001b[0m\n\u001b[1;32m   2271\u001b[0m     return _methods._amax(a, axis=axis,\n\u001b[0;32m-> 2272\u001b[0;31m                           out=out, **kwargs)\n\u001b[0m\u001b[1;32m   2273\u001b[0m \u001b[0;34m\u001b[0m\u001b[0m\n\u001b[1;32m   2274\u001b[0m \u001b[0;34m\u001b[0m\u001b[0m\n",
      "\u001b[0;32m/usr/lib64/python2.7/site-packages/numpy/core/_methods.pyc\u001b[0m in \u001b[0;36m_amax\u001b[0;34m(a, axis, out, keepdims)\u001b[0m\n\u001b[1;32m     24\u001b[0m \u001b[0;31m# small reductions\u001b[0m\u001b[0;34m\u001b[0m\u001b[0;34m\u001b[0m\u001b[0m\n\u001b[1;32m     25\u001b[0m \u001b[0;32mdef\u001b[0m \u001b[0m_amax\u001b[0m\u001b[0;34m(\u001b[0m\u001b[0ma\u001b[0m\u001b[0;34m,\u001b[0m \u001b[0maxis\u001b[0m\u001b[0;34m=\u001b[0m\u001b[0mNone\u001b[0m\u001b[0;34m,\u001b[0m \u001b[0mout\u001b[0m\u001b[0;34m=\u001b[0m\u001b[0mNone\u001b[0m\u001b[0;34m,\u001b[0m \u001b[0mkeepdims\u001b[0m\u001b[0;34m=\u001b[0m\u001b[0mFalse\u001b[0m\u001b[0;34m)\u001b[0m\u001b[0;34m:\u001b[0m\u001b[0;34m\u001b[0m\u001b[0m\n\u001b[0;32m---> 26\u001b[0;31m     \u001b[0;32mreturn\u001b[0m \u001b[0mumr_maximum\u001b[0m\u001b[0;34m(\u001b[0m\u001b[0ma\u001b[0m\u001b[0;34m,\u001b[0m \u001b[0maxis\u001b[0m\u001b[0;34m,\u001b[0m \u001b[0mNone\u001b[0m\u001b[0;34m,\u001b[0m \u001b[0mout\u001b[0m\u001b[0;34m,\u001b[0m \u001b[0mkeepdims\u001b[0m\u001b[0;34m)\u001b[0m\u001b[0;34m\u001b[0m\u001b[0m\n\u001b[0m\u001b[1;32m     27\u001b[0m \u001b[0;34m\u001b[0m\u001b[0m\n\u001b[1;32m     28\u001b[0m \u001b[0;32mdef\u001b[0m \u001b[0m_amin\u001b[0m\u001b[0;34m(\u001b[0m\u001b[0ma\u001b[0m\u001b[0;34m,\u001b[0m \u001b[0maxis\u001b[0m\u001b[0;34m=\u001b[0m\u001b[0mNone\u001b[0m\u001b[0;34m,\u001b[0m \u001b[0mout\u001b[0m\u001b[0;34m=\u001b[0m\u001b[0mNone\u001b[0m\u001b[0;34m,\u001b[0m \u001b[0mkeepdims\u001b[0m\u001b[0;34m=\u001b[0m\u001b[0mFalse\u001b[0m\u001b[0;34m)\u001b[0m\u001b[0;34m:\u001b[0m\u001b[0;34m\u001b[0m\u001b[0m\n",
      "\u001b[0;31mValueError\u001b[0m: zero-size array to reduction operation maximum which has no identity"
     ]
    }
   ],
   "source": [
    "y_train = to_categorical(y_train)\n",
    "y_val = to_categorical(y_val)"
   ]
  },
  {
   "cell_type": "code",
   "execution_count": 123,
   "metadata": {},
   "outputs": [
    {
     "name": "stdout",
     "output_type": "stream",
     "text": [
      "_________________________________________________________________\n",
      "Layer (type)                 Output Shape              Param #   \n",
      "=================================================================\n",
      "dense_40 (Dense)             (None, 256)               1048832   \n",
      "_________________________________________________________________\n",
      "dropout_26 (Dropout)         (None, 256)               0         \n",
      "_________________________________________________________________\n",
      "dense_41 (Dense)             (None, 128)               32896     \n",
      "_________________________________________________________________\n",
      "dropout_27 (Dropout)         (None, 128)               0         \n",
      "_________________________________________________________________\n",
      "dense_42 (Dense)             (None, 10)                1290      \n",
      "=================================================================\n",
      "Total params: 1,083,018\n",
      "Trainable params: 1,083,018\n",
      "Non-trainable params: 0\n",
      "_________________________________________________________________\n"
     ]
    }
   ],
   "source": [
    "# Add the MLP Layer\n",
    "mlp = Sequential()\n",
    "mlp.add(Dense(256, input_dim=4096, activation='relu'))\n",
    "mlp.add(Dropout(0.2))\n",
    "mlp.add(Dense(128, activation='relu'))\n",
    "mlp.add(Dropout(0.4))\n",
    "mlp.add(Dense(10, activation='sigmoid'))#try dense as 1 and sigmoid\n",
    "mlp.summary()"
   ]
  },
  {
   "cell_type": "code",
   "execution_count": 124,
   "metadata": {},
   "outputs": [],
   "source": [
    "import keras"
   ]
  },
  {
   "cell_type": "code",
   "execution_count": 125,
   "metadata": {},
   "outputs": [
    {
     "name": "stdout",
     "output_type": "stream",
     "text": [
      "Train on 574 samples, validate on 144 samples\n",
      "Epoch 1/100\n",
      "574/574 [==============================] - 1s - loss: 2.6523 - acc: 0.1516 - val_loss: 2.2826 - val_acc: 0.1806\n",
      "Epoch 2/100\n",
      "574/574 [==============================] - 0s - loss: 2.4503 - acc: 0.1847 - val_loss: 2.2571 - val_acc: 0.2431\n",
      "Epoch 3/100\n",
      "574/574 [==============================] - 0s - loss: 2.3259 - acc: 0.2003 - val_loss: 2.1997 - val_acc: 0.2917\n",
      "Epoch 4/100\n",
      "574/574 [==============================] - 0s - loss: 2.1225 - acc: 0.2526 - val_loss: 2.0825 - val_acc: 0.4792\n",
      "Epoch 5/100\n",
      "574/574 [==============================] - 0s - loss: 2.0121 - acc: 0.3519 - val_loss: 1.8255 - val_acc: 0.5000\n",
      "Epoch 6/100\n",
      "574/574 [==============================] - 0s - loss: 1.8464 - acc: 0.3990 - val_loss: 1.7662 - val_acc: 0.4444\n",
      "Epoch 7/100\n",
      "574/574 [==============================] - 0s - loss: 1.7474 - acc: 0.4286 - val_loss: 1.5173 - val_acc: 0.5764\n",
      "Epoch 8/100\n",
      "574/574 [==============================] - 0s - loss: 1.6503 - acc: 0.5000 - val_loss: 1.5033 - val_acc: 0.5139\n",
      "Epoch 9/100\n",
      "574/574 [==============================] - 0s - loss: 1.6218 - acc: 0.4948 - val_loss: 1.3693 - val_acc: 0.6597\n",
      "Epoch 10/100\n",
      "574/574 [==============================] - 0s - loss: 1.5445 - acc: 0.5383 - val_loss: 1.2018 - val_acc: 0.6319\n",
      "Epoch 11/100\n",
      "574/574 [==============================] - 0s - loss: 1.3008 - acc: 0.5923 - val_loss: 1.2313 - val_acc: 0.6389\n",
      "Epoch 12/100\n",
      "574/574 [==============================] - 0s - loss: 1.3250 - acc: 0.6272 - val_loss: 1.0936 - val_acc: 0.7153\n",
      "Epoch 13/100\n",
      "574/574 [==============================] - 0s - loss: 1.1412 - acc: 0.6289 - val_loss: 1.1171 - val_acc: 0.7361\n",
      "Epoch 14/100\n",
      "574/574 [==============================] - 0s - loss: 1.1379 - acc: 0.6812 - val_loss: 1.1168 - val_acc: 0.7153\n",
      "Epoch 15/100\n",
      "574/574 [==============================] - 0s - loss: 0.9720 - acc: 0.7091 - val_loss: 0.8683 - val_acc: 0.7361\n",
      "Epoch 16/100\n",
      "574/574 [==============================] - 0s - loss: 0.9743 - acc: 0.7195 - val_loss: 0.9193 - val_acc: 0.7500\n",
      "Epoch 17/100\n",
      "574/574 [==============================] - 0s - loss: 0.8217 - acc: 0.7387 - val_loss: 0.8471 - val_acc: 0.7431\n",
      "Epoch 18/100\n",
      "574/574 [==============================] - 0s - loss: 0.8258 - acc: 0.7456 - val_loss: 0.7216 - val_acc: 0.7292\n",
      "Epoch 19/100\n",
      "574/574 [==============================] - 0s - loss: 0.6547 - acc: 0.7369 - val_loss: 0.8803 - val_acc: 0.7292\n",
      "Epoch 20/100\n",
      "574/574 [==============================] - 0s - loss: 0.6593 - acc: 0.7718 - val_loss: 0.7358 - val_acc: 0.7431\n",
      "Epoch 21/100\n",
      "574/574 [==============================] - 0s - loss: 0.5816 - acc: 0.7683 - val_loss: 0.9340 - val_acc: 0.7361\n",
      "Epoch 22/100\n",
      "574/574 [==============================] - 0s - loss: 0.6458 - acc: 0.7770 - val_loss: 0.9194 - val_acc: 0.7292\n",
      "Epoch 23/100\n",
      "574/574 [==============================] - 0s - loss: 0.5695 - acc: 0.7787 - val_loss: 0.7437 - val_acc: 0.7292\n",
      "Epoch 24/100\n",
      "574/574 [==============================] - 0s - loss: 0.6295 - acc: 0.7753 - val_loss: 0.7412 - val_acc: 0.7014\n",
      "Epoch 25/100\n",
      "574/574 [==============================] - 0s - loss: 0.5754 - acc: 0.8014 - val_loss: 0.7880 - val_acc: 0.7431\n",
      "Epoch 26/100\n",
      "574/574 [==============================] - 0s - loss: 0.4902 - acc: 0.8153 - val_loss: 1.1786 - val_acc: 0.7361\n",
      "Epoch 27/100\n",
      "574/574 [==============================] - 0s - loss: 0.5410 - acc: 0.8084 - val_loss: 0.7161 - val_acc: 0.7500\n",
      "Epoch 28/100\n",
      "574/574 [==============================] - 0s - loss: 0.5832 - acc: 0.8118 - val_loss: 0.7331 - val_acc: 0.7431\n",
      "Epoch 29/100\n",
      "574/574 [==============================] - 0s - loss: 0.4715 - acc: 0.7979 - val_loss: 0.8379 - val_acc: 0.7569\n",
      "Epoch 30/100\n",
      "574/574 [==============================] - 0s - loss: 0.4545 - acc: 0.8293 - val_loss: 0.8751 - val_acc: 0.7500\n",
      "Epoch 31/100\n",
      "574/574 [==============================] - 0s - loss: 0.4231 - acc: 0.8345 - val_loss: 0.7991 - val_acc: 0.7500\n",
      "Epoch 32/100\n",
      "574/574 [==============================] - 0s - loss: 0.4441 - acc: 0.8206 - val_loss: 0.8476 - val_acc: 0.7569\n",
      "Epoch 33/100\n",
      "574/574 [==============================] - 0s - loss: 0.3712 - acc: 0.8467 - val_loss: 0.7085 - val_acc: 0.7569\n",
      "Epoch 34/100\n",
      "574/574 [==============================] - 0s - loss: 0.3839 - acc: 0.8502 - val_loss: 0.8020 - val_acc: 0.7708\n",
      "Epoch 35/100\n",
      "574/574 [==============================] - 0s - loss: 0.4257 - acc: 0.8275 - val_loss: 0.8088 - val_acc: 0.7431\n",
      "Epoch 36/100\n",
      "574/574 [==============================] - 0s - loss: 0.5355 - acc: 0.8240 - val_loss: 0.7673 - val_acc: 0.7431\n",
      "Epoch 37/100\n",
      "574/574 [==============================] - 0s - loss: 0.3958 - acc: 0.8432 - val_loss: 0.8670 - val_acc: 0.7500\n",
      "Epoch 38/100\n",
      "574/574 [==============================] - 0s - loss: 0.4782 - acc: 0.8258 - val_loss: 0.7718 - val_acc: 0.7431\n",
      "Epoch 39/100\n",
      "574/574 [==============================] - 0s - loss: 0.3362 - acc: 0.8415 - val_loss: 0.8394 - val_acc: 0.7639\n",
      "Epoch 40/100\n",
      "574/574 [==============================] - 0s - loss: 0.3412 - acc: 0.8380 - val_loss: 0.8308 - val_acc: 0.7569\n",
      "Epoch 41/100\n",
      "574/574 [==============================] - 0s - loss: 0.3287 - acc: 0.8502 - val_loss: 1.0021 - val_acc: 0.7431\n",
      "Epoch 42/100\n",
      "574/574 [==============================] - 0s - loss: 0.3669 - acc: 0.8432 - val_loss: 0.7200 - val_acc: 0.7639\n",
      "Epoch 43/100\n",
      "574/574 [==============================] - 0s - loss: 0.3161 - acc: 0.8571 - val_loss: 0.7047 - val_acc: 0.7639\n",
      "Epoch 44/100\n",
      "574/574 [==============================] - 0s - loss: 0.2848 - acc: 0.8624 - val_loss: 0.8275 - val_acc: 0.7500\n",
      "Epoch 45/100\n",
      "574/574 [==============================] - 0s - loss: 0.2924 - acc: 0.8589 - val_loss: 1.0538 - val_acc: 0.7431\n",
      "Epoch 46/100\n",
      "574/574 [==============================] - 0s - loss: 0.3820 - acc: 0.8589 - val_loss: 0.9038 - val_acc: 0.7569\n",
      "Epoch 47/100\n",
      "574/574 [==============================] - 0s - loss: 0.2862 - acc: 0.8746 - val_loss: 0.8944 - val_acc: 0.7569\n",
      "Epoch 48/100\n",
      "574/574 [==============================] - 0s - loss: 0.3315 - acc: 0.8641 - val_loss: 0.7972 - val_acc: 0.7569\n",
      "Epoch 49/100\n",
      "574/574 [==============================] - 0s - loss: 0.3347 - acc: 0.8554 - val_loss: 0.6920 - val_acc: 0.7708\n",
      "Epoch 50/100\n",
      "574/574 [==============================] - 0s - loss: 0.3257 - acc: 0.8502 - val_loss: 0.7861 - val_acc: 0.7778\n",
      "Epoch 51/100\n",
      "574/574 [==============================] - 0s - loss: 0.3236 - acc: 0.8624 - val_loss: 1.1296 - val_acc: 0.7708\n",
      "Epoch 52/100\n",
      "574/574 [==============================] - 0s - loss: 0.3189 - acc: 0.8571 - val_loss: 0.9118 - val_acc: 0.7569\n",
      "Epoch 53/100\n",
      "574/574 [==============================] - 0s - loss: 0.3068 - acc: 0.8589 - val_loss: 0.9736 - val_acc: 0.7569\n",
      "Epoch 54/100\n",
      "574/574 [==============================] - 0s - loss: 0.3559 - acc: 0.8519 - val_loss: 0.9999 - val_acc: 0.7431\n",
      "Epoch 55/100\n",
      "574/574 [==============================] - 0s - loss: 0.3631 - acc: 0.8467 - val_loss: 1.0186 - val_acc: 0.7500\n",
      "Epoch 56/100\n",
      "574/574 [==============================] - 0s - loss: 0.3496 - acc: 0.8397 - val_loss: 1.1156 - val_acc: 0.7569\n",
      "Epoch 57/100\n",
      "574/574 [==============================] - 0s - loss: 0.3035 - acc: 0.8571 - val_loss: 0.9889 - val_acc: 0.7431\n",
      "Epoch 58/100\n",
      "574/574 [==============================] - 0s - loss: 0.2523 - acc: 0.8571 - val_loss: 1.2143 - val_acc: 0.7569\n",
      "Epoch 59/100\n",
      "574/574 [==============================] - 0s - loss: 0.3698 - acc: 0.8449 - val_loss: 0.8192 - val_acc: 0.7708\n",
      "Epoch 60/100\n",
      "574/574 [==============================] - 0s - loss: 0.2481 - acc: 0.8763 - val_loss: 0.9748 - val_acc: 0.7708\n",
      "Epoch 61/100\n",
      "574/574 [==============================] - 0s - loss: 0.2688 - acc: 0.8693 - val_loss: 1.0073 - val_acc: 0.7569\n",
      "Epoch 62/100\n",
      "574/574 [==============================] - 0s - loss: 0.2421 - acc: 0.8676 - val_loss: 0.9366 - val_acc: 0.7639\n",
      "Epoch 63/100\n",
      "574/574 [==============================] - 0s - loss: 0.2670 - acc: 0.8693 - val_loss: 1.0488 - val_acc: 0.7569\n",
      "Epoch 64/100\n",
      "574/574 [==============================] - 0s - loss: 0.2219 - acc: 0.8624 - val_loss: 1.2061 - val_acc: 0.7708\n",
      "Epoch 65/100\n",
      "574/574 [==============================] - 0s - loss: 0.3192 - acc: 0.8589 - val_loss: 1.1185 - val_acc: 0.7708\n",
      "Epoch 66/100\n",
      "574/574 [==============================] - 0s - loss: 0.2062 - acc: 0.8885 - val_loss: 1.0174 - val_acc: 0.7639\n",
      "Epoch 67/100\n",
      "574/574 [==============================] - 0s - loss: 0.2606 - acc: 0.8780 - val_loss: 0.8748 - val_acc: 0.7639\n",
      "Epoch 68/100\n",
      "574/574 [==============================] - 0s - loss: 0.2078 - acc: 0.8868 - val_loss: 0.9217 - val_acc: 0.7847\n",
      "Epoch 69/100\n",
      "574/574 [==============================] - 0s - loss: 0.1878 - acc: 0.8868 - val_loss: 0.9295 - val_acc: 0.7708\n",
      "Epoch 70/100\n",
      "574/574 [==============================] - 0s - loss: 0.2259 - acc: 0.8833 - val_loss: 0.9055 - val_acc: 0.7639\n",
      "Epoch 71/100\n",
      "574/574 [==============================] - 0s - loss: 0.2033 - acc: 0.8850 - val_loss: 0.8722 - val_acc: 0.7708\n",
      "Epoch 72/100\n",
      "574/574 [==============================] - 0s - loss: 0.1912 - acc: 0.8711 - val_loss: 0.8968 - val_acc: 0.7847\n",
      "Epoch 73/100\n",
      "574/574 [==============================] - 0s - loss: 0.2297 - acc: 0.8920 - val_loss: 0.9333 - val_acc: 0.7708\n",
      "Epoch 74/100\n",
      "574/574 [==============================] - 0s - loss: 0.2804 - acc: 0.8711 - val_loss: 0.6910 - val_acc: 0.7917\n",
      "Epoch 75/100\n",
      "574/574 [==============================] - 0s - loss: 0.2535 - acc: 0.8728 - val_loss: 0.7874 - val_acc: 0.8125\n",
      "Epoch 76/100\n",
      "574/574 [==============================] - 0s - loss: 0.2291 - acc: 0.8833 - val_loss: 0.9407 - val_acc: 0.7986\n",
      "Epoch 77/100\n",
      "574/574 [==============================] - 0s - loss: 0.2230 - acc: 0.8798 - val_loss: 0.8564 - val_acc: 0.7917\n",
      "Epoch 78/100\n",
      "574/574 [==============================] - 0s - loss: 0.1931 - acc: 0.8798 - val_loss: 1.0856 - val_acc: 0.7778\n",
      "Epoch 79/100\n",
      "574/574 [==============================] - 0s - loss: 0.2154 - acc: 0.8955 - val_loss: 1.0958 - val_acc: 0.7778\n",
      "Epoch 80/100\n",
      "574/574 [==============================] - 0s - loss: 0.2233 - acc: 0.8780 - val_loss: 0.8797 - val_acc: 0.7847\n",
      "Epoch 81/100\n",
      "574/574 [==============================] - 0s - loss: 0.1963 - acc: 0.8850 - val_loss: 0.8353 - val_acc: 0.7847\n",
      "Epoch 82/100\n",
      "574/574 [==============================] - 0s - loss: 0.2782 - acc: 0.8868 - val_loss: 0.9362 - val_acc: 0.7778\n",
      "Epoch 83/100\n",
      "574/574 [==============================] - 0s - loss: 0.2247 - acc: 0.8850 - val_loss: 0.8761 - val_acc: 0.7569\n",
      "Epoch 84/100\n",
      "574/574 [==============================] - 0s - loss: 0.1790 - acc: 0.8920 - val_loss: 0.7881 - val_acc: 0.7847\n",
      "Epoch 85/100\n",
      "574/574 [==============================] - 0s - loss: 0.1950 - acc: 0.8798 - val_loss: 0.7771 - val_acc: 0.7847\n",
      "Epoch 86/100\n",
      "574/574 [==============================] - 0s - loss: 0.2070 - acc: 0.8850 - val_loss: 0.8378 - val_acc: 0.7778\n",
      "Epoch 87/100\n",
      "574/574 [==============================] - 0s - loss: 0.2306 - acc: 0.8868 - val_loss: 0.9011 - val_acc: 0.7847\n",
      "Epoch 88/100\n",
      "574/574 [==============================] - 0s - loss: 0.2147 - acc: 0.8885 - val_loss: 0.6901 - val_acc: 0.7917\n",
      "Epoch 89/100\n",
      "574/574 [==============================] - 0s - loss: 0.1738 - acc: 0.8850 - val_loss: 0.8600 - val_acc: 0.7708\n",
      "Epoch 90/100\n",
      "574/574 [==============================] - 0s - loss: 0.1911 - acc: 0.8990 - val_loss: 0.7366 - val_acc: 0.7986\n",
      "Epoch 91/100\n",
      "574/574 [==============================] - 0s - loss: 0.1560 - acc: 0.9059 - val_loss: 0.7586 - val_acc: 0.8194\n",
      "Epoch 92/100\n",
      "574/574 [==============================] - 0s - loss: 0.1743 - acc: 0.8920 - val_loss: 0.8671 - val_acc: 0.8056\n",
      "Epoch 93/100\n",
      "574/574 [==============================] - 0s - loss: 0.1918 - acc: 0.8972 - val_loss: 0.5762 - val_acc: 0.8194\n",
      "Epoch 94/100\n",
      "574/574 [==============================] - 0s - loss: 0.1502 - acc: 0.9059 - val_loss: 0.6907 - val_acc: 0.8125\n",
      "Epoch 95/100\n",
      "574/574 [==============================] - 0s - loss: 0.1257 - acc: 0.9216 - val_loss: 0.8781 - val_acc: 0.8472\n",
      "Epoch 96/100\n",
      "574/574 [==============================] - 0s - loss: 0.2337 - acc: 0.9042 - val_loss: 0.8473 - val_acc: 0.7847\n",
      "Epoch 97/100\n",
      "574/574 [==============================] - 0s - loss: 0.2075 - acc: 0.9042 - val_loss: 0.8202 - val_acc: 0.7986\n",
      "Epoch 98/100\n",
      "574/574 [==============================] - 0s - loss: 0.1966 - acc: 0.8937 - val_loss: 0.9030 - val_acc: 0.7986\n",
      "Epoch 99/100\n",
      "574/574 [==============================] - 0s - loss: 0.1413 - acc: 0.9129 - val_loss: 0.8213 - val_acc: 0.7917\n",
      "Epoch 100/100\n",
      "574/574 [==============================] - 0s - loss: 0.1851 - acc: 0.9077 - val_loss: 0.8692 - val_acc: 0.8056\n"
     ]
    },
    {
     "data": {
      "text/plain": [
       "<keras.callbacks.History at 0x311ea810>"
      ]
     },
     "execution_count": 125,
     "metadata": {},
     "output_type": "execute_result"
    }
   ],
   "source": [
    "#adam = Adam(lr=0.1)\n",
    "# adam = keras.optimizers.adam()\n",
    "mlp.compile(optimizer='Adam', \n",
    "            loss='categorical_crossentropy', \n",
    "            metrics=['acc'])\n",
    "\n",
    "mlp.fit(np.array(x_train), to_categorical(y_train), nb_epoch=100, validation_data=(np.array(x_val), to_categorical(y_val)))\n",
    "\n"
   ]
  }
 ],
 "metadata": {
  "kernelspec": {
   "display_name": "Python 2",
   "language": "python",
   "name": "python2"
  },
  "language_info": {
   "codemirror_mode": {
    "name": "ipython",
    "version": 2
   },
   "file_extension": ".py",
   "mimetype": "text/x-python",
   "name": "python",
   "nbconvert_exporter": "python",
   "pygments_lexer": "ipython2",
   "version": "2.7.5"
  }
 },
 "nbformat": 4,
 "nbformat_minor": 2
}
